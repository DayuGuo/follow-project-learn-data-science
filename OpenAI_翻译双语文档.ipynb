{
  "nbformat": 4,
  "nbformat_minor": 0,
  "metadata": {
    "colab": {
      "provenance": [],
      "authorship_tag": "ABX9TyP+xqZfV032yf8GmbEQPmJU",
      "include_colab_link": true
    },
    "kernelspec": {
      "name": "python3",
      "display_name": "Python 3"
    },
    "language_info": {
      "name": "python"
    }
  },
  "cells": [
    {
      "cell_type": "markdown",
      "metadata": {
        "id": "view-in-github",
        "colab_type": "text"
      },
      "source": [
        "<a href=\"https://colab.research.google.com/github/DayuGuo/follow-project-learn-data-science/blob/main/OpenAI_%E7%BF%BB%E8%AF%91%E5%8F%8C%E8%AF%AD%E6%96%87%E6%A1%A3.ipynb\" target=\"_parent\"><img src=\"https://colab.research.google.com/assets/colab-badge.svg\" alt=\"Open In Colab\"/></a>"
      ]
    },
    {
      "cell_type": "markdown",
      "source": [
        "# 通过 Github 导入数据\n"
      ],
      "metadata": {
        "id": "-eDLP5NuO8HC"
      }
    },
    {
      "cell_type": "code",
      "execution_count": 13,
      "metadata": {
        "colab": {
          "base_uri": "https://localhost:8080/"
        },
        "id": "K3E39VLuNKfg",
        "outputId": "d228b60b-b283-4802-b3d5-cff3c70b26bc"
      },
      "outputs": [
        {
          "output_type": "stream",
          "name": "stdout",
          "text": [
            "fatal: destination path 'bilingual_book_maker' already exists and is not an empty directory.\n"
          ]
        }
      ],
      "source": [
        "! git clone https://github.com/yihong0618/bilingual_book_maker"
      ]
    },
    {
      "cell_type": "markdown",
      "source": [
        "# 安装依赖库"
      ],
      "metadata": {
        "id": "1UqzNQ2WPTs9"
      }
    },
    {
      "cell_type": "code",
      "source": [
        "!pip install jedi>=0.10"
      ],
      "metadata": {
        "id": "e4BuU0VWOGx6"
      },
      "execution_count": 4,
      "outputs": []
    },
    {
      "cell_type": "code",
      "source": [
        "pip install -r /content/bilingual_book_maker/requirements.txt"
      ],
      "metadata": {
        "id": "3pVwR49LNcSH"
      },
      "execution_count": null,
      "outputs": []
    },
    {
      "cell_type": "markdown",
      "source": [
        "# 开始使用\n",
        "请将下面这串代码中的「你的apikey」替换为你的OpenAI api"
      ],
      "metadata": {
        "id": "QZbS3kzjOPQx"
      }
    },
    {
      "cell_type": "code",
      "source": [
        "!python3 /content/bilingual_book_maker/make_book.py --book_name /content/bilingual_book_maker/test_books/animal_farm.epub --openai_key 你的apikey --language zh-hans"
      ],
      "metadata": {
        "id": "YFsyzQCuNyjn"
      },
      "execution_count": null,
      "outputs": []
    }
  ]
}