{
 "cells": [
  {
   "cell_type": "code",
   "execution_count": null,
   "id": "6924f764",
   "metadata": {},
   "outputs": [],
   "source": [
    "!pip install \"pyqt5<5.16\"\n",
    "!pip install \"pyqtwebengine<5.16\""
   ]
  },
  {
   "cell_type": "code",
   "execution_count": null,
   "id": "21934b03",
   "metadata": {},
   "outputs": [],
   "source": [
    "pip install -r requirements.txt"
   ]
  },
  {
   "cell_type": "code",
   "execution_count": null,
   "id": "c7c74048",
   "metadata": {},
   "outputs": [],
   "source": [
    "!python3 make_book.py --book_name test_books/animal_farm.epub --openai_key 这里输入你自己的api --language zh-hans"
   ]
  }
 ],
 "metadata": {
  "kernelspec": {
   "display_name": "Python 3 (ipykernel)",
   "language": "python",
   "name": "python3"
  },
  "language_info": {
   "codemirror_mode": {
    "name": "ipython",
    "version": 3
   },
   "file_extension": ".py",
   "mimetype": "text/x-python",
   "name": "python",
   "nbconvert_exporter": "python",
   "pygments_lexer": "ipython3",
   "version": "3.9.13"
  }
 },
 "nbformat": 4,
 "nbformat_minor": 5
}
